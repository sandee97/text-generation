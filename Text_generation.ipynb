{
  "nbformat": 4,
  "nbformat_minor": 0,
  "metadata": {
    "colab": {
      "name": "Text_generation.ipynb",
      "provenance": [],
      "collapsed_sections": []
    },
    "kernelspec": {
      "name": "python3",
      "display_name": "Python 3"
    },
    "accelerator": "GPU"
  },
  "cells": [
    {
      "cell_type": "code",
      "metadata": {
        "id": "bVpfjyqM0fOY"
      },
      "source": [
        "import requests\n",
        "import re\n",
        "import numpy as np\n",
        "import pandas as pd\n",
        "import matplotlib.pyplot as plt\n",
        "import tensorflow as tf"
      ],
      "execution_count": 59,
      "outputs": []
    },
    {
      "cell_type": "code",
      "metadata": {
        "colab": {
          "base_uri": "https://localhost:8080/",
          "height": 37
        },
        "id": "0CNrEAB40a8a",
        "outputId": "4bd8ef6f-f654-4497-9b31-02b96f6376a3"
      },
      "source": [
        "r= requests.get(\"https://data.heatonresearch.com/data/t81-558/text/\"\\\n",
        "                \"treasure_island.txt\")\n",
        "raw_text =r.text\n",
        "raw_text[0:100]"
      ],
      "execution_count": 60,
      "outputs": [
        {
          "output_type": "execute_result",
          "data": {
            "application/vnd.google.colaboratory.intrinsic+json": {
              "type": "string"
            },
            "text/plain": [
              "'ï»¿The Project Gutenberg EBook of Treasure Island, by Robert Louis Stevenson\\r\\n\\r\\nThis eBook is for th'"
            ]
          },
          "metadata": {
            "tags": []
          },
          "execution_count": 60
        }
      ]
    },
    {
      "cell_type": "code",
      "metadata": {
        "id": "a10TuCMa0rC3"
      },
      "source": [
        "processed_text = raw_text.lower()\n",
        "processed_text = re.sub(r'[^\\x00-\\x7f]',r'', processed_text)"
      ],
      "execution_count": 61,
      "outputs": []
    },
    {
      "cell_type": "code",
      "metadata": {
        "colab": {
          "base_uri": "https://localhost:8080/",
          "height": 37
        },
        "id": "_g_em6eQ06zm",
        "outputId": "c0561cf9-36c8-4f0a-ca24-26d7f15fc3c2"
      },
      "source": [
        "processed_text[0:100]"
      ],
      "execution_count": 62,
      "outputs": [
        {
          "output_type": "execute_result",
          "data": {
            "application/vnd.google.colaboratory.intrinsic+json": {
              "type": "string"
            },
            "text/plain": [
              "'the project gutenberg ebook of treasure island, by robert louis stevenson\\r\\n\\r\\nthis ebook is for the u'"
            ]
          },
          "metadata": {
            "tags": []
          },
          "execution_count": 62
        }
      ]
    },
    {
      "cell_type": "code",
      "metadata": {
        "id": "2ccQp6pl082K"
      },
      "source": [
        "chars = sorted(list(set(processed_text)))\n",
        "chars\n",
        "char2idx = dict((c,i) for i,c in enumerate(chars))\n",
        "idx2char = dict((i,c) for i,c in enumerate(chars))"
      ],
      "execution_count": 63,
      "outputs": []
    },
    {
      "cell_type": "code",
      "metadata": {
        "colab": {
          "base_uri": "https://localhost:8080/"
        },
        "id": "UKsZhDfD1GXI",
        "outputId": "fc69be45-9610-4540-cd1e-937072082f77"
      },
      "source": [
        "maxlen = 40\n",
        "step = 5\n",
        "sentences = []\n",
        "next_chars = []\n",
        "for i in range(0, len(processed_text) - maxlen, step):\n",
        "    sentences.append(processed_text[i: i + maxlen])\n",
        "    next_chars.append(processed_text[i + maxlen])\n",
        "print('nb sequences:', len(sentences))"
      ],
      "execution_count": 64,
      "outputs": [
        {
          "output_type": "stream",
          "text": [
            "nb sequences: 79472\n"
          ],
          "name": "stdout"
        }
      ]
    },
    {
      "cell_type": "code",
      "metadata": {
        "colab": {
          "base_uri": "https://localhost:8080/"
        },
        "id": "-jx1iJPy1-OC",
        "outputId": "73cb208b-fa36-459e-95d4-597842cec580"
      },
      "source": [
        "sentences"
      ],
      "execution_count": 65,
      "outputs": [
        {
          "output_type": "execute_result",
          "data": {
            "text/plain": [
              "['the project gutenberg ebook of treasure ',\n",
              " 'roject gutenberg ebook of treasure islan',\n",
              " 't gutenberg ebook of treasure island, by',\n",
              " 'enberg ebook of treasure island, by robe',\n",
              " 'g ebook of treasure island, by robert lo',\n",
              " 'ok of treasure island, by robert louis s',\n",
              " ' treasure island, by robert louis steven',\n",
              " 'sure island, by robert louis stevenson\\r\\n',\n",
              " 'island, by robert louis stevenson\\r\\n\\r\\nthi',\n",
              " 'd, by robert louis stevenson\\r\\n\\r\\nthis ebo',\n",
              " ' robert louis stevenson\\r\\n\\r\\nthis ebook is',\n",
              " 'rt louis stevenson\\r\\n\\r\\nthis ebook is for ',\n",
              " 'uis stevenson\\r\\n\\r\\nthis ebook is for the u',\n",
              " 'tevenson\\r\\n\\r\\nthis ebook is for the use of',\n",
              " 'son\\r\\n\\r\\nthis ebook is for the use of anyo',\n",
              " '\\r\\nthis ebook is for the use of anyone an',\n",
              " 's ebook is for the use of anyone anywher',\n",
              " 'ok is for the use of anyone anywhere at ',\n",
              " ' for the use of anyone anywhere at no co',\n",
              " 'the use of anyone anywhere at no cost an',\n",
              " 'se of anyone anywhere at no cost and wit',\n",
              " ' anyone anywhere at no cost and with\\r\\nal',\n",
              " 'ne anywhere at no cost and with\\r\\nalmost ',\n",
              " 'ywhere at no cost and with\\r\\nalmost no re',\n",
              " 'e at no cost and with\\r\\nalmost no restric',\n",
              " 'no cost and with\\r\\nalmost no restrictions',\n",
              " 'st and with\\r\\nalmost no restrictions what',\n",
              " 'd with\\r\\nalmost no restrictions whatsoeve',\n",
              " 'h\\r\\nalmost no restrictions whatsoever.  y',\n",
              " 'most no restrictions whatsoever.  you ma',\n",
              " 'no restrictions whatsoever.  you may cop',\n",
              " 'strictions whatsoever.  you may copy it,',\n",
              " 'tions whatsoever.  you may copy it, give',\n",
              " ' whatsoever.  you may copy it, give it a',\n",
              " 'soever.  you may copy it, give it away o',\n",
              " 'r.  you may copy it, give it away or\\r\\nre',\n",
              " 'ou may copy it, give it away or\\r\\nre-use ',\n",
              " 'y copy it, give it away or\\r\\nre-use it un',\n",
              " 'y it, give it away or\\r\\nre-use it under t',\n",
              " ' give it away or\\r\\nre-use it under the te',\n",
              " ' it away or\\r\\nre-use it under the terms o',\n",
              " 'way or\\r\\nre-use it under the terms of the',\n",
              " 'r\\r\\nre-use it under the terms of the proj',\n",
              " '-use it under the terms of the project g',\n",
              " 'it under the terms of the project gutenb',\n",
              " 'der the terms of the project gutenberg l',\n",
              " 'he terms of the project gutenberg licens',\n",
              " 'rms of the project gutenberg license inc',\n",
              " 'f the project gutenberg license included',\n",
              " ' project gutenberg license included\\r\\nwit',\n",
              " 'ect gutenberg license included\\r\\nwith thi',\n",
              " 'utenberg license included\\r\\nwith this ebo',\n",
              " 'erg license included\\r\\nwith this ebook or',\n",
              " 'icense included\\r\\nwith this ebook or onli',\n",
              " 'e included\\r\\nwith this ebook or online at',\n",
              " 'luded\\r\\nwith this ebook or online at www.',\n",
              " '\\r\\nwith this ebook or online at www.guten',\n",
              " 'h this ebook or online at www.gutenberg.',\n",
              " 's ebook or online at www.gutenberg.net\\r\\n',\n",
              " 'ok or online at www.gutenberg.net\\r\\n\\r\\n\\r\\nt',\n",
              " ' online at www.gutenberg.net\\r\\n\\r\\n\\r\\ntitle:',\n",
              " 'ne at www.gutenberg.net\\r\\n\\r\\n\\r\\ntitle: trea',\n",
              " ' www.gutenberg.net\\r\\n\\r\\n\\r\\ntitle: treasure ',\n",
              " 'gutenberg.net\\r\\n\\r\\n\\r\\ntitle: treasure islan',\n",
              " 'berg.net\\r\\n\\r\\n\\r\\ntitle: treasure island\\r\\n\\r\\n',\n",
              " 'net\\r\\n\\r\\n\\r\\ntitle: treasure island\\r\\n\\r\\nautho',\n",
              " '\\r\\n\\r\\ntitle: treasure island\\r\\n\\r\\nauthor: ro',\n",
              " 'itle: treasure island\\r\\n\\r\\nauthor: robert ',\n",
              " ' treasure island\\r\\n\\r\\nauthor: robert louis',\n",
              " 'sure island\\r\\n\\r\\nauthor: robert louis stev',\n",
              " 'island\\r\\n\\r\\nauthor: robert louis stevenson',\n",
              " 'd\\r\\n\\r\\nauthor: robert louis stevenson\\r\\n\\r\\ni',\n",
              " 'author: robert louis stevenson\\r\\n\\r\\nillust',\n",
              " 'r: robert louis stevenson\\r\\n\\r\\nillustrator',\n",
              " 'bert louis stevenson\\r\\n\\r\\nillustrator: mil',\n",
              " 'louis stevenson\\r\\n\\r\\nillustrator: milo win',\n",
              " ' stevenson\\r\\n\\r\\nillustrator: milo winter\\r\\n',\n",
              " 'enson\\r\\n\\r\\nillustrator: milo winter\\r\\n\\r\\nrel',\n",
              " '\\r\\n\\r\\nillustrator: milo winter\\r\\n\\r\\nrelease ',\n",
              " 'llustrator: milo winter\\r\\n\\r\\nrelease date:',\n",
              " 'rator: milo winter\\r\\n\\r\\nrelease date: janu',\n",
              " ': milo winter\\r\\n\\r\\nrelease date: january 1',\n",
              " 'o winter\\r\\n\\r\\nrelease date: january 12, 20',\n",
              " 'ter\\r\\n\\r\\nrelease date: january 12, 2009 [e',\n",
              " '\\r\\nrelease date: january 12, 2009 [ebook ',\n",
              " 'ease date: january 12, 2009 [ebook #2778',\n",
              " 'date: january 12, 2009 [ebook #27780]\\r\\n\\r',\n",
              " ' january 12, 2009 [ebook #27780]\\r\\n\\r\\nlang',\n",
              " 'ary 12, 2009 [ebook #27780]\\r\\n\\r\\nlanguage:',\n",
              " '2, 2009 [ebook #27780]\\r\\n\\r\\nlanguage: engl',\n",
              " '09 [ebook #27780]\\r\\n\\r\\nlanguage: english\\r\\n',\n",
              " 'book #27780]\\r\\n\\r\\nlanguage: english\\r\\n\\r\\n\\r\\n*',\n",
              " '#27780]\\r\\n\\r\\nlanguage: english\\r\\n\\r\\n\\r\\n*** st',\n",
              " '0]\\r\\n\\r\\nlanguage: english\\r\\n\\r\\n\\r\\n*** start o',\n",
              " '\\nlanguage: english\\r\\n\\r\\n\\r\\n*** start of thi',\n",
              " 'uage: english\\r\\n\\r\\n\\r\\n*** start of this pro',\n",
              " ' english\\r\\n\\r\\n\\r\\n*** start of this project ',\n",
              " 'ish\\r\\n\\r\\n\\r\\n*** start of this project guten',\n",
              " '\\r\\n\\r\\n*** start of this project gutenberg ',\n",
              " '** start of this project gutenberg ebook',\n",
              " 'art of this project gutenberg ebook trea',\n",
              " 'f this project gutenberg ebook treasure ',\n",
              " 's project gutenberg ebook treasure islan',\n",
              " 'ject gutenberg ebook treasure island ***',\n",
              " 'gutenberg ebook treasure island ***\\r\\n\\r\\n\\r',\n",
              " 'berg ebook treasure island ***\\r\\n\\r\\n\\r\\n\\r\\n\\r\\n',\n",
              " 'ebook treasure island ***\\r\\n\\r\\n\\r\\n\\r\\n\\r\\nprodu',\n",
              " ' treasure island ***\\r\\n\\r\\n\\r\\n\\r\\n\\r\\nproduced b',\n",
              " 'sure island ***\\r\\n\\r\\n\\r\\n\\r\\n\\r\\nproduced by jul',\n",
              " 'island ***\\r\\n\\r\\n\\r\\n\\r\\n\\r\\nproduced by juliet s',\n",
              " 'd ***\\r\\n\\r\\n\\r\\n\\r\\n\\r\\nproduced by juliet suther',\n",
              " '\\r\\n\\r\\n\\r\\n\\r\\n\\r\\nproduced by juliet sutherland,',\n",
              " '\\n\\r\\n\\r\\nproduced by juliet sutherland, step',\n",
              " 'produced by juliet sutherland, stephen b',\n",
              " 'ced by juliet sutherland, stephen blunde',\n",
              " 'y juliet sutherland, stephen blundell an',\n",
              " 'iet sutherland, stephen blundell and the',\n",
              " 'utherland, stephen blundell and the\\r\\nonl',\n",
              " 'land, stephen blundell and the\\r\\nonline d',\n",
              " ' stephen blundell and the\\r\\nonline distri',\n",
              " 'hen blundell and the\\r\\nonline distributed',\n",
              " 'lundell and the\\r\\nonline distributed proo',\n",
              " 'll and the\\r\\nonline distributed proofread',\n",
              " 'd the\\r\\nonline distributed proofreading t',\n",
              " '\\r\\nonline distributed proofreading team a',\n",
              " 'ine distributed proofreading team at htt',\n",
              " 'istributed proofreading team at http://w',\n",
              " 'buted proofreading team at http://www.pg',\n",
              " ' proofreading team at http://www.pgdp.ne',\n",
              " 'freading team at http://www.pgdp.net\\r\\n\\r\\n',\n",
              " 'ing team at http://www.pgdp.net\\r\\n\\r\\n\\r\\n\\r\\n\\r',\n",
              " 'eam at http://www.pgdp.net\\r\\n\\r\\n\\r\\n\\r\\n\\r\\n\\r\\n\\r\\n',\n",
              " 't http://www.pgdp.net\\r\\n\\r\\n\\r\\n\\r\\n\\r\\n\\r\\n\\r\\n\\r\\n\\r\\n\\r',\n",
              " 'p://www.pgdp.net\\r\\n\\r\\n\\r\\n\\r\\n\\r\\n\\r\\n\\r\\n\\r\\n\\r\\n\\r\\n the',\n",
              " 'ww.pgdp.net\\r\\n\\r\\n\\r\\n\\r\\n\\r\\n\\r\\n\\r\\n\\r\\n\\r\\n\\r\\n the illu',\n",
              " 'dp.net\\r\\n\\r\\n\\r\\n\\r\\n\\r\\n\\r\\n\\r\\n\\r\\n\\r\\n\\r\\n the illustrat',\n",
              " 't\\r\\n\\r\\n\\r\\n\\r\\n\\r\\n\\r\\n\\r\\n\\r\\n\\r\\n\\r\\n the illustrated ch',\n",
              " '\\r\\n\\r\\n\\r\\n\\r\\n\\r\\n\\r\\n\\r\\n\\r\\n the illustrated childre',\n",
              " \"\\n\\r\\n\\r\\n\\r\\n\\r\\n\\r\\n the illustrated children's l\",\n",
              " \"\\r\\n\\r\\n\\r\\n the illustrated children's librar\",\n",
              " \"\\n the illustrated children's library\\r\\n\\r\\n\",\n",
              " \" illustrated children's library\\r\\n\\r\\n\\r\\n   \",\n",
              " \"strated children's library\\r\\n\\r\\n\\r\\n        \",\n",
              " \"ed children's library\\r\\n\\r\\n\\r\\n         _tre\",\n",
              " \"ildren's library\\r\\n\\r\\n\\r\\n         _treasure\",\n",
              " \"n's library\\r\\n\\r\\n\\r\\n         _treasure isla\",\n",
              " 'ibrary\\r\\n\\r\\n\\r\\n         _treasure island_\\r\\n',\n",
              " 'y\\r\\n\\r\\n\\r\\n         _treasure island_\\r\\n\\r\\n   ',\n",
              " '\\r\\n         _treasure island_\\r\\n\\r\\n       r',\n",
              " '      _treasure island_\\r\\n\\r\\n       robert',\n",
              " ' _treasure island_\\r\\n\\r\\n       robert loui',\n",
              " 'asure island_\\r\\n\\r\\n       robert louis ste',\n",
              " ' island_\\r\\n\\r\\n       robert louis stevenso',\n",
              " 'nd_\\r\\n\\r\\n       robert louis stevenson\\r\\n\\r\\n',\n",
              " '\\r\\n       robert louis stevenson\\r\\n\\r\\n     ',\n",
              " '    robert louis stevenson\\r\\n\\r\\n          ',\n",
              " 'obert louis stevenson\\r\\n\\r\\n          _illu',\n",
              " ' louis stevenson\\r\\n\\r\\n          _illustrat',\n",
              " 's stevenson\\r\\n\\r\\n          _illustrated by',\n",
              " 'venson\\r\\n\\r\\n          _illustrated by_\\r\\n  ',\n",
              " 'n\\r\\n\\r\\n          _illustrated by_\\r\\n       ',\n",
              " '          _illustrated by_\\r\\n            ',\n",
              " '     _illustrated by_\\r\\n            milo ',\n",
              " '_illustrated by_\\r\\n            milo winte',\n",
              " 'strated by_\\r\\n            milo winter\\r\\n\\r\\n',\n",
              " 'ed by_\\r\\n            milo winter\\r\\n\\r\\n\\r\\n   ',\n",
              " '_\\r\\n            milo winter\\r\\n\\r\\n\\r\\n        ',\n",
              " '          milo winter\\r\\n\\r\\n\\r\\n           [i',\n",
              " '     milo winter\\r\\n\\r\\n\\r\\n           [illust',\n",
              " 'milo winter\\r\\n\\r\\n\\r\\n           [illustratio',\n",
              " 'winter\\r\\n\\r\\n\\r\\n           [illustration]\\r\\n\\r',\n",
              " 'r\\r\\n\\r\\n\\r\\n           [illustration]\\r\\n\\r\\n\\r\\n  ',\n",
              " '\\r\\n           [illustration]\\r\\n\\r\\n\\r\\n       ',\n",
              " '        [illustration]\\r\\n\\r\\n\\r\\n           g',\n",
              " '   [illustration]\\r\\n\\r\\n\\r\\n           gramer',\n",
              " 'llustration]\\r\\n\\r\\n\\r\\n           gramercy bo',\n",
              " 'ration]\\r\\n\\r\\n\\r\\n           gramercy books\\r\\n',\n",
              " 'n]\\r\\n\\r\\n\\r\\n           gramercy books\\r\\n     ',\n",
              " '\\n\\r\\n           gramercy books\\r\\n          ',\n",
              " '         gramercy books\\r\\n              n',\n",
              " '    gramercy books\\r\\n              new yo',\n",
              " 'ramercy books\\r\\n              new york\\r\\n\\r',\n",
              " 'cy books\\r\\n              new york\\r\\n\\r\\n\\r\\n\\r\\n',\n",
              " 'oks\\r\\n              new york\\r\\n\\r\\n\\r\\n\\r\\n\\r\\n fo',\n",
              " '              new york\\r\\n\\r\\n\\r\\n\\r\\n\\r\\n forewor',\n",
              " '         new york\\r\\n\\r\\n\\r\\n\\r\\n\\r\\n foreword cop',\n",
              " '    new york\\r\\n\\r\\n\\r\\n\\r\\n\\r\\n foreword copyrigh',\n",
              " 'ew york\\r\\n\\r\\n\\r\\n\\r\\n\\r\\n foreword copyright  19',\n",
              " 'rk\\r\\n\\r\\n\\r\\n\\r\\n\\r\\n foreword copyright  1986 by',\n",
              " '\\n\\r\\n\\r\\n\\r\\n foreword copyright  1986 by rand',\n",
              " '\\r\\n foreword copyright  1986 by random ho',\n",
              " 'reword copyright  1986 by random house v',\n",
              " 'd copyright  1986 by random house value ',\n",
              " 'yright  1986 by random house value publi',\n",
              " 't  1986 by random house value publishing',\n",
              " '86 by random house value publishing\\r\\n co',\n",
              " ' random house value publishing\\r\\n color i',\n",
              " 'om house value publishing\\r\\n color illust',\n",
              " 'use value publishing\\r\\n color illustratio',\n",
              " 'alue publishing\\r\\n color illustrations by',\n",
              " 'publishing\\r\\n color illustrations by milo',\n",
              " 'shing\\r\\n color illustrations by milo wint',\n",
              " '\\r\\n color illustrations by milo winter co',\n",
              " 'lor illustrations by milo winter copyrig',\n",
              " 'llustrations by milo winter copyright  1',\n",
              " 'rations by milo winter copyright  1915, ',\n",
              " 'ns by milo winter copyright  1915, 1943 ',\n",
              " ' milo winter copyright  1915, 1943 by ra',\n",
              " ' winter copyright  1915, 1943 by rand\\r\\n ',\n",
              " 'er copyright  1915, 1943 by rand\\r\\n mcnal',\n",
              " 'pyright  1915, 1943 by rand\\r\\n mcnally & ',\n",
              " 'ht  1915, 1943 by rand\\r\\n mcnally & compa',\n",
              " '915, 1943 by rand\\r\\n mcnally & company\\r\\n ',\n",
              " '1943 by rand\\r\\n mcnally & company\\r\\n all r',\n",
              " 'by rand\\r\\n mcnally & company\\r\\n all rights',\n",
              " 'nd\\r\\n mcnally & company\\r\\n all rights rese',\n",
              " 'mcnally & company\\r\\n all rights reserved.',\n",
              " 'ly & company\\r\\n all rights reserved.\\r\\n\\r\\n ',\n",
              " 'company\\r\\n all rights reserved.\\r\\n\\r\\n this ',\n",
              " 'ny\\r\\n all rights reserved.\\r\\n\\r\\n this 2002 ',\n",
              " 'all rights reserved.\\r\\n\\r\\n this 2002 editi',\n",
              " 'ights reserved.\\r\\n\\r\\n this 2002 edition pu',\n",
              " ' reserved.\\r\\n\\r\\n this 2002 edition publish',\n",
              " 'rved.\\r\\n\\r\\n this 2002 edition published by',\n",
              " '\\r\\n\\r\\n this 2002 edition published by gram',\n",
              " 'this 2002 edition published by gramercy ',\n",
              " '2002 edition published by gramercy books',\n",
              " 'edition published by gramercy books, an ',\n",
              " 'on published by gramercy books, an impri',\n",
              " 'blished by gramercy books, an imprint of',\n",
              " 'ed by gramercy books, an imprint of rand',\n",
              " ' gramercy books, an imprint of random\\r\\n ',\n",
              " 'ercy books, an imprint of random\\r\\n house',\n",
              " 'books, an imprint of random\\r\\n house valu',\n",
              " ', an imprint of random\\r\\n house value pub',\n",
              " 'imprint of random\\r\\n house value publishi',\n",
              " 'nt of random\\r\\n house value publishing, a',\n",
              " ' random\\r\\n house value publishing, a divi',\n",
              " 'om\\r\\n house value publishing, a division ',\n",
              " 'house value publishing, a division of ra',\n",
              " ' value publishing, a division of random ',\n",
              " 'e publishing, a division of random house',\n",
              " 'lishing, a division of random house, inc',\n",
              " 'ng, a division of random house, inc., 28',\n",
              " ' division of random house, inc., 280 par',\n",
              " 'sion of random house, inc., 280 park\\r\\n a',\n",
              " 'of random house, inc., 280 park\\r\\n avenue',\n",
              " 'ndom house, inc., 280 park\\r\\n avenue, new',\n",
              " 'house, inc., 280 park\\r\\n avenue, new york',\n",
              " ', inc., 280 park\\r\\n avenue, new york, ny ',\n",
              " '., 280 park\\r\\n avenue, new york, ny 10017',\n",
              " '0 park\\r\\n avenue, new york, ny 10017.\\r\\n\\r\\n',\n",
              " 'k\\r\\n avenue, new york, ny 10017.\\r\\n\\r\\n gram',\n",
              " 'venue, new york, ny 10017.\\r\\n\\r\\n gramercy ',\n",
              " ', new york, ny 10017.\\r\\n\\r\\n gramercy is a ',\n",
              " ' york, ny 10017.\\r\\n\\r\\n gramercy is a regis',\n",
              " ', ny 10017.\\r\\n\\r\\n gramercy is a registered',\n",
              " '10017.\\r\\n\\r\\n gramercy is a registered trad',\n",
              " '.\\r\\n\\r\\n gramercy is a registered trademark',\n",
              " ' gramercy is a registered trademark and ',\n",
              " 'ercy is a registered trademark and the c',\n",
              " 'is a registered trademark and the coloph',\n",
              " 'registered trademark and the colophon is',\n",
              " 'tered trademark and the colophon is a tr',\n",
              " ' trademark and the colophon is a tradema',\n",
              " 'emark and the colophon is a trademark of',\n",
              " ' and the colophon is a trademark of\\r\\n ra',\n",
              " 'the colophon is a trademark of\\r\\n random ',\n",
              " 'olophon is a trademark of\\r\\n random house',\n",
              " 'on is a trademark of\\r\\n random house, inc',\n",
              " ' a trademark of\\r\\n random house, inc.\\r\\n\\r\\n',\n",
              " 'ademark of\\r\\n random house, inc.\\r\\n\\r\\n prin',\n",
              " 'rk of\\r\\n random house, inc.\\r\\n\\r\\n printed a',\n",
              " '\\r\\n random house, inc.\\r\\n\\r\\n printed and bo',\n",
              " 'ndom house, inc.\\r\\n\\r\\n printed and bound i',\n",
              " 'house, inc.\\r\\n\\r\\n printed and bound in the',\n",
              " ', inc.\\r\\n\\r\\n printed and bound in the unit',\n",
              " '.\\r\\n\\r\\n printed and bound in the united st',\n",
              " ' printed and bound in the united states ',\n",
              " 'ted and bound in the united states of am',\n",
              " 'nd bound in the united states of america',\n",
              " 'und in the united states of america\\r\\n\\r\\n ',\n",
              " 'n the united states of america\\r\\n\\r\\n cover',\n",
              " ' united states of america\\r\\n\\r\\n cover desi',\n",
              " 'ed states of america\\r\\n\\r\\n cover design by',\n",
              " 'ates of america\\r\\n\\r\\n cover design by judy',\n",
              " 'of america\\r\\n\\r\\n cover design by judy fucc',\n",
              " 'erica\\r\\n\\r\\n cover design by judy fucci, st',\n",
              " '\\r\\n\\r\\n cover design by judy fucci, studio ',\n",
              " 'cover design by judy fucci, studio graph',\n",
              " ' design by judy fucci, studio graphix, i',\n",
              " 'gn by judy fucci, studio graphix, inc.\\r\\n',\n",
              " ' judy fucci, studio graphix, inc.\\r\\n\\r\\n ra',\n",
              " ' fucci, studio graphix, inc.\\r\\n\\r\\n random ',\n",
              " 'i, studio graphix, inc.\\r\\n\\r\\n random house',\n",
              " 'udio graphix, inc.\\r\\n\\r\\n random house\\r\\n ne',\n",
              " 'graphix, inc.\\r\\n\\r\\n random house\\r\\n new yor',\n",
              " 'ix, inc.\\r\\n\\r\\n random house\\r\\n new york  to',\n",
              " 'nc.\\r\\n\\r\\n random house\\r\\n new york  toronto',\n",
              " '\\r\\n random house\\r\\n new york  toronto  lon',\n",
              " 'ndom house\\r\\n new york  toronto  london  ',\n",
              " 'house\\r\\n new york  toronto  london  sydne',\n",
              " '\\r\\n new york  toronto  london  sydney  au',\n",
              " 'w york  toronto  london  sydney  aucklan',\n",
              " 'k  toronto  london  sydney  auckland\\r\\n w',\n",
              " 'ronto  london  sydney  auckland\\r\\n www.ra',\n",
              " '  london  sydney  auckland\\r\\n www.randomh',\n",
              " 'don  sydney  auckland\\r\\n www.randomhouse.',\n",
              " 'sydney  auckland\\r\\n www.randomhouse.com\\r\\n',\n",
              " 'y  auckland\\r\\n www.randomhouse.com\\r\\n\\r\\n\\r\\n ',\n",
              " 'ckland\\r\\n www.randomhouse.com\\r\\n\\r\\n\\r\\n libra',\n",
              " 'd\\r\\n www.randomhouse.com\\r\\n\\r\\n\\r\\n library of',\n",
              " 'ww.randomhouse.com\\r\\n\\r\\n\\r\\n library of cong',\n",
              " 'ndomhouse.com\\r\\n\\r\\n\\r\\n library of congress ',\n",
              " 'ouse.com\\r\\n\\r\\n\\r\\n library of congress catal',\n",
              " 'com\\r\\n\\r\\n\\r\\n library of congress cataloging',\n",
              " '\\r\\n\\r\\n library of congress cataloging-in-p',\n",
              " 'library of congress cataloging-in-public',\n",
              " 'ry of congress cataloging-in-publication',\n",
              " ' congress cataloging-in-publication data',\n",
              " 'ress cataloging-in-publication data\\r\\n\\r\\n ',\n",
              " 'cataloging-in-publication data\\r\\n\\r\\n steve',\n",
              " 'oging-in-publication data\\r\\n\\r\\n stevenson,',\n",
              " '-in-publication data\\r\\n\\r\\n stevenson, robe',\n",
              " 'ublication data\\r\\n\\r\\n stevenson, robert lo',\n",
              " 'ation data\\r\\n\\r\\n stevenson, robert louis, ',\n",
              " ' data\\r\\n\\r\\n stevenson, robert louis, 1850-',\n",
              " '\\r\\n\\r\\n stevenson, robert louis, 1850-1894.',\n",
              " 'stevenson, robert louis, 1850-1894.\\r\\n   ',\n",
              " 'nson, robert louis, 1850-1894.\\r\\n     tre',\n",
              " ' robert louis, 1850-1894.\\r\\n     treasure',\n",
              " 'rt louis, 1850-1894.\\r\\n     treasure isla',\n",
              " 'uis, 1850-1894.\\r\\n     treasure island/ro',\n",
              " '1850-1894.\\r\\n     treasure island/robert ',\n",
              " '1894.\\r\\n     treasure island/robert louis',\n",
              " '\\r\\n     treasure island/robert louis stev',\n",
              " '  treasure island/robert louis stevenson',\n",
              " 'asure island/robert louis stevenson; ill',\n",
              " ' island/robert louis stevenson; illustra',\n",
              " 'nd/robert louis stevenson; illustrated i',\n",
              " 'bert louis stevenson; illustrated in col',\n",
              " 'louis stevenson; illustrated in color by',\n",
              " ' stevenson; illustrated in color by\\r\\n   ',\n",
              " 'enson; illustrated in color by\\r\\n   milo ',\n",
              " '; illustrated in color by\\r\\n   milo winte',\n",
              " 'ustrated in color by\\r\\n   milo winter.\\r\\n ',\n",
              " 'ted in color by\\r\\n   milo winter.\\r\\n      ',\n",
              " 'n color by\\r\\n   milo winter.\\r\\n       p. c',\n",
              " 'or by\\r\\n   milo winter.\\r\\n       p. cm.--(',\n",
              " '\\r\\n   milo winter.\\r\\n       p. cm.--(illus',\n",
              " 'milo winter.\\r\\n       p. cm.--(illustrate',\n",
              " 'winter.\\r\\n       p. cm.--(illustrated chi',\n",
              " 'r.\\r\\n       p. cm.--(illustrated children',\n",
              " \"      p. cm.--(illustrated children's li\",\n",
              " \" p. cm.--(illustrated children's library\",\n",
              " \"m.--(illustrated children's library)\\r\\n  \",\n",
              " \"illustrated children's library)\\r\\n     or\",\n",
              " \"trated children's library)\\r\\n     origina\",\n",
              " \"d children's library)\\r\\n     originally p\",\n",
              " \"ldren's library)\\r\\n     originally publis\",\n",
              " \"'s library)\\r\\n     originally published: \",\n",
              " 'brary)\\r\\n     originally published: new y',\n",
              " ')\\r\\n     originally published: new york: ',\n",
              " '   originally published: new york: child',\n",
              " \"iginally published: new york: children's\",\n",
              " \"lly published: new york: children's clas\",\n",
              " \"ublished: new york: children's classics,\",\n",
              " \"hed: new york: children's classics, 1986\",\n",
              " \"new york: children's classics, 1986.\\r\\n  \",\n",
              " \"ork: children's classics, 1986.\\r\\n     su\",\n",
              " \"children's classics, 1986.\\r\\n     summary\",\n",
              " \"ren's classics, 1986.\\r\\n     summary: whi\",\n",
              " ' classics, 1986.\\r\\n     summary: while go',\n",
              " 'sics, 1986.\\r\\n     summary: while going t',\n",
              " ' 1986.\\r\\n     summary: while going throug',\n",
              " '.\\r\\n     summary: while going through the',\n",
              " '   summary: while going through the poss',\n",
              " 'mmary: while going through the possessio',\n",
              " ': while going through the possessions of',\n",
              " 'le going through the possessions of a de',\n",
              " 'ing through the possessions of a decease',\n",
              " 'hrough the possessions of a deceased gue',\n",
              " 'h the possessions of a deceased guest\\r\\n ',\n",
              " ' possessions of a deceased guest\\r\\n   who',\n",
              " 'essions of a deceased guest\\r\\n   who owed',\n",
              " 'ns of a deceased guest\\r\\n   who owed them',\n",
              " ' a deceased guest\\r\\n   who owed them mone',\n",
              " 'ceased guest\\r\\n   who owed them money, th',\n",
              " 'd guest\\r\\n   who owed them money, the mis',\n",
              " 'st\\r\\n   who owed them money, the mistress',\n",
              " '  who owed them money, the mistress of t',\n",
              " ' owed them money, the mistress of the in',\n",
              " ' them money, the mistress of the inn and',\n",
              " ' money, the mistress of the inn and her ',\n",
              " 'y, the mistress of the inn and her son f',\n",
              " 'e mistress of the inn and her son find a',\n",
              " 'tress of the inn and her son find a\\r\\n   ',\n",
              " ' of the inn and her son find a\\r\\n   treas',\n",
              " 'he inn and her son find a\\r\\n   treasure m',\n",
              " 'n and her son find a\\r\\n   treasure map th',\n",
              " ' her son find a\\r\\n   treasure map that le',\n",
              " 'son find a\\r\\n   treasure map that leads t',\n",
              " 'ind a\\r\\n   treasure map that leads them t',\n",
              " '\\r\\n   treasure map that leads them to a p',\n",
              " 'treasure map that leads them to a pirate',\n",
              " \"ure map that leads them to a pirate's fo\",\n",
              " \"ap that leads them to a pirate's fortune\",\n",
              " \"at leads them to a pirate's fortune.\\r\\n  \",\n",
              " \"ads them to a pirate's fortune.\\r\\n     is\",\n",
              " \"hem to a pirate's fortune.\\r\\n     isbn 0-\",\n",
              " \"o a pirate's fortune.\\r\\n     isbn 0-517-2\",\n",
              " \"irate's fortune.\\r\\n     isbn 0-517-22114-\",\n",
              " \"'s fortune.\\r\\n     isbn 0-517-22114-4\\r\\n  \",\n",
              " 'rtune.\\r\\n     isbn 0-517-22114-4\\r\\n     [1',\n",
              " '.\\r\\n     isbn 0-517-22114-4\\r\\n     [1. bur',\n",
              " '   isbn 0-517-22114-4\\r\\n     [1. buried t',\n",
              " 'bn 0-517-22114-4\\r\\n     [1. buried treasu',\n",
              " '517-22114-4\\r\\n     [1. buried treasure--f',\n",
              " '2114-4\\r\\n     [1. buried treasure--fictio',\n",
              " '4\\r\\n     [1. buried treasure--fiction. 2.',\n",
              " '   [1. buried treasure--fiction. 2. pira',\n",
              " '. buried treasure--fiction. 2. pirates--',\n",
              " 'ied treasure--fiction. 2. pirates--ficti',\n",
              " 'reasure--fiction. 2. pirates--fiction. 3',\n",
              " 're--fiction. 2. pirates--fiction. 3. adv',\n",
              " 'iction. 2. pirates--fiction. 3. adventur',\n",
              " 'n. 2. pirates--fiction. 3. adventure\\r\\n  ',\n",
              " ' pirates--fiction. 3. adventure\\r\\n   and ',\n",
              " 'tes--fiction. 3. adventure\\r\\n   and adven',\n",
              " 'fiction. 3. adventure\\r\\n   and adventures',\n",
              " 'on. 3. adventure\\r\\n   and adventures--fic',\n",
              " '. adventure\\r\\n   and adventures--fiction.',\n",
              " 'enture\\r\\n   and adventures--fiction. 4. c',\n",
              " 'e\\r\\n   and adventures--fiction. 4. caribb',\n",
              " ' and adventures--fiction. 4. caribbean a',\n",
              " 'adventures--fiction. 4. caribbean area--',\n",
              " 'tures--fiction. 4. caribbean area--histo',\n",
              " '--fiction. 4. caribbean area--history--1',\n",
              " 'tion. 4. caribbean area--history--18th\\r\\n',\n",
              " ' 4. caribbean area--history--18th\\r\\n   ce',\n",
              " 'aribbean area--history--18th\\r\\n   century',\n",
              " 'ean area--history--18th\\r\\n   century--fic',\n",
              " 'rea--history--18th\\r\\n   century--fiction.',\n",
              " 'history--18th\\r\\n   century--fiction.] i. ',\n",
              " 'ry--18th\\r\\n   century--fiction.] i. winte',\n",
              " '8th\\r\\n   century--fiction.] i. winter, mi',\n",
              " '   century--fiction.] i. winter, milo, 1',\n",
              " 'ntury--fiction.] i. winter, milo, 1888-1',\n",
              " '--fiction.] i. winter, milo, 1888-1956, ',\n",
              " 'tion.] i. winter, milo, 1888-1956, ill. ',\n",
              " '] i. winter, milo, 1888-1956, ill. ii. t',\n",
              " 'winter, milo, 1888-1956, ill. ii. title.',\n",
              " 'r, milo, 1888-1956, ill. ii. title.\\r\\n   ',\n",
              " 'lo, 1888-1956, ill. ii. title.\\r\\n   iii. ',\n",
              " '888-1956, ill. ii. title.\\r\\n   iii. serie',\n",
              " '956, ill. ii. title.\\r\\n   iii. series.\\r\\n\\r',\n",
              " 'ill. ii. title.\\r\\n   iii. series.\\r\\n\\r\\n   p',\n",
              " 'ii. title.\\r\\n   iii. series.\\r\\n\\r\\n   pz7.s8',\n",
              " 'itle.\\r\\n   iii. series.\\r\\n\\r\\n   pz7.s8482 t',\n",
              " '\\r\\n   iii. series.\\r\\n\\r\\n   pz7.s8482 tr 200',\n",
              " 'iii. series.\\r\\n\\r\\n   pz7.s8482 tr 2002\\r\\n  ',\n",
              " 'series.\\r\\n\\r\\n   pz7.s8482 tr 2002\\r\\n   [fic',\n",
              " 's.\\r\\n\\r\\n   pz7.s8482 tr 2002\\r\\n   [fic]--dc',\n",
              " '\\n   pz7.s8482 tr 2002\\r\\n   [fic]--dc21\\r\\n\\r',\n",
              " 'z7.s8482 tr 2002\\r\\n   [fic]--dc21\\r\\n\\r\\n    ',\n",
              " '482 tr 2002\\r\\n   [fic]--dc21\\r\\n\\r\\n         ',\n",
              " 'r 2002\\r\\n   [fic]--dc21\\r\\n\\r\\n              ',\n",
              " '2\\r\\n   [fic]--dc21\\r\\n\\r\\n                   ',\n",
              " ' [fic]--dc21\\r\\n\\r\\n                        ',\n",
              " ']--dc21\\r\\n\\r\\n                             ',\n",
              " '21\\r\\n\\r\\n                                  ',\n",
              " '\\n                                       ',\n",
              " '                                        ',\n",
              " '                                        ',\n",
              " '                                        ',\n",
              " '                                        ',\n",
              " '                                      20',\n",
              " '                                 2002023',\n",
              " '                            2002023301\\r\\n',\n",
              " '                       2002023301\\r\\n 9 8 ',\n",
              " '                  2002023301\\r\\n 9 8 7 6 5',\n",
              " '             2002023301\\r\\n 9 8 7 6 5 4 3 ',\n",
              " '        2002023301\\r\\n 9 8 7 6 5 4 3 2 1\\r\\n',\n",
              " '   2002023301\\r\\n 9 8 7 6 5 4 3 2 1\\r\\n\\r\\n\\r\\nt',\n",
              " '02023301\\r\\n 9 8 7 6 5 4 3 2 1\\r\\n\\r\\n\\r\\ntransc',\n",
              " '301\\r\\n 9 8 7 6 5 4 3 2 1\\r\\n\\r\\n\\r\\ntranscriber',\n",
              " \" 9 8 7 6 5 4 3 2 1\\r\\n\\r\\n\\r\\ntranscriber's no\",\n",
              " \"7 6 5 4 3 2 1\\r\\n\\r\\n\\r\\ntranscriber's note:\\r\\n\",\n",
              " \" 4 3 2 1\\r\\n\\r\\n\\r\\ntranscriber's note:\\r\\n\\r\\n   \",\n",
              " \"2 1\\r\\n\\r\\n\\r\\ntranscriber's note:\\r\\n\\r\\n    mino\",\n",
              " \"\\r\\n\\r\\ntranscriber's note:\\r\\n\\r\\n    minor spe\",\n",
              " \"ranscriber's note:\\r\\n\\r\\n    minor spelling\",\n",
              " \"riber's note:\\r\\n\\r\\n    minor spelling and \",\n",
              " \"'s note:\\r\\n\\r\\n    minor spelling and typog\",\n",
              " 'te:\\r\\n\\r\\n    minor spelling and typographi',\n",
              " '\\r\\n    minor spelling and typographical e',\n",
              " ' minor spelling and typographical errors',\n",
              " 'r spelling and typographical errors have',\n",
              " 'lling and typographical errors have been',\n",
              " ' and typographical errors have been corr',\n",
              " 'typographical errors have been corrected',\n",
              " 'raphical errors have been corrected with',\n",
              " 'cal errors have been corrected without\\r\\n',\n",
              " 'rrors have been corrected without\\r\\n    n',\n",
              " ' have been corrected without\\r\\n    note. ',\n",
              " ' been corrected without\\r\\n    note. diale',\n",
              " ' corrected without\\r\\n    note. dialect an',\n",
              " 'ected without\\r\\n    note. dialect and var',\n",
              " ' without\\r\\n    note. dialect and variant ',\n",
              " 'out\\r\\n    note. dialect and variant spell',\n",
              " '    note. dialect and variant spellings ',\n",
              " 'ote. dialect and variant spellings have ',\n",
              " 'dialect and variant spellings have been ',\n",
              " 'ct and variant spellings have been retai',\n",
              " 'd variant spellings have been retained, ',\n",
              " 'iant spellings have been retained, whils',\n",
              " 'spellings have been retained, whilst\\r\\n  ',\n",
              " 'ings have been retained, whilst\\r\\n    inc',\n",
              " 'have been retained, whilst\\r\\n    inconsis',\n",
              " 'been retained, whilst\\r\\n    inconsistent ',\n",
              " 'retained, whilst\\r\\n    inconsistent hyphe',\n",
              " 'ned, whilst\\r\\n    inconsistent hyphenatio',\n",
              " 'whilst\\r\\n    inconsistent hyphenation has',\n",
              " 't\\r\\n    inconsistent hyphenation has been',\n",
              " '  inconsistent hyphenation has been stan',\n",
              " 'onsistent hyphenation has been standardi',\n",
              " 'tent hyphenation has been standardised. ',\n",
              " 'hyphenation has been standardised. color',\n",
              " 'nation has been standardised. color plat',\n",
              " 'n has been standardised. color plates ha',\n",
              " ' been standardised. color plates have\\r\\n ',\n",
              " ' standardised. color plates have\\r\\n    be',\n",
              " 'dardised. color plates have\\r\\n    been re',\n",
              " 'sed. color plates have\\r\\n    been reposit',\n",
              " 'color plates have\\r\\n    been repositioned',\n",
              " ' plates have\\r\\n    been repositioned acco',\n",
              " 'es have\\r\\n    been repositioned according',\n",
              " 've\\r\\n    been repositioned according to t',\n",
              " '   been repositioned according to their ',\n",
              " 'en repositioned according to their capti',\n",
              " 'positioned according to their captions; ',\n",
              " \"ioned according to their captions; the '\",\n",
              " \" according to their captions; the 'color\",\n",
              " \"rding to their captions; the 'color plat\",\n",
              " \" to their captions; the 'color plates'\\r\\n\",\n",
              " \"heir captions; the 'color plates'\\r\\n    l\",\n",
              " \"captions; the 'color plates'\\r\\n    listin\",\n",
              " \"ons; the 'color plates'\\r\\n    listing rem\",\n",
              " \"the 'color plates'\\r\\n    listing remains \",\n",
              " \"color plates'\\r\\n    listing remains as pr\",\n",
              " \" plates'\\r\\n    listing remains as printed\",\n",
              " \"es'\\r\\n    listing remains as printed to i\",\n",
              " '    listing remains as printed to indica',\n",
              " 'isting remains as printed to indicate th',\n",
              " 'g remains as printed to indicate the ori',\n",
              " 'ains as printed to indicate the original',\n",
              " 'as printed to indicate the original loca',\n",
              " 'inted to indicate the original locations',\n",
              " ' to indicate the original locations.\\r\\n\\r\\n',\n",
              " 'ndicate the original locations.\\r\\n\\r\\n\\r\\n\\r\\n\\r',\n",
              " 'te the original locations.\\r\\n\\r\\n\\r\\n\\r\\n\\r\\ncont',\n",
              " 'e original locations.\\r\\n\\r\\n\\r\\n\\r\\n\\r\\ncontents\\r',\n",
              " 'ginal locations.\\r\\n\\r\\n\\r\\n\\r\\n\\r\\ncontents\\r\\n\\r\\n\\r\\n',\n",
              " ' locations.\\r\\n\\r\\n\\r\\n\\r\\n\\r\\ncontents\\r\\n\\r\\n\\r\\n     ',\n",
              " 'tions.\\r\\n\\r\\n\\r\\n\\r\\n\\r\\ncontents\\r\\n\\r\\n\\r\\n          ',\n",
              " '.\\r\\n\\r\\n\\r\\n\\r\\n\\r\\ncontents\\r\\n\\r\\n\\r\\n               ',\n",
              " '\\r\\n\\r\\n\\r\\ncontents\\r\\n\\r\\n\\r\\n                    ',\n",
              " '\\ncontents\\r\\n\\r\\n\\r\\n                         ',\n",
              " 'ents\\r\\n\\r\\n\\r\\n                              ',\n",
              " '\\n\\r\\n\\r\\n                                   ',\n",
              " '                                        ',\n",
              " '                                        ',\n",
              " '                                        ',\n",
              " '                                        ',\n",
              " '                                        ',\n",
              " '                                    page',\n",
              " '                               page\\r\\n _t',\n",
              " '                          page\\r\\n _to the',\n",
              " '                     page\\r\\n _to the hesi',\n",
              " '                page\\r\\n _to the hesitatin',\n",
              " '           page\\r\\n _to the hesitating pur',\n",
              " '      page\\r\\n _to the hesitating purchase',\n",
              " ' page\\r\\n _to the hesitating purchaser_   ',\n",
              " '\\r\\n _to the hesitating purchaser_        ',\n",
              " 'o the hesitating purchaser_             ',\n",
              " ' hesitating purchaser_                  ',\n",
              " 'tating purchaser_                       ',\n",
              " 'g purchaser_                            ',\n",
              " 'chaser_                             _vii',\n",
              " 'r_                             _viii_\\r\\n ',\n",
              " '                          _viii_\\r\\n _list',\n",
              " '                     _viii_\\r\\n _list of c',\n",
              " '                _viii_\\r\\n _list of color ',\n",
              " '           _viii_\\r\\n _list of color plate',\n",
              " '      _viii_\\r\\n _list of color plates_   ',\n",
              " ' _viii_\\r\\n _list of color plates_        ',\n",
              " 'i_\\r\\n _list of color plates_             ',\n",
              " '_list of color plates_                  ',\n",
              " ' of color plates_                       ',\n",
              " 'olor plates_                            ',\n",
              " 'plates_                                 ',\n",
              " 's_                                      ',\n",
              " '                                   _ix_\\r',\n",
              " '                              _ix_\\r\\n _de',\n",
              " '                         _ix_\\r\\n _dedicat',\n",
              " '                    _ix_\\r\\n _dedication_ ',\n",
              " '               _ix_\\r\\n _dedication_      ',\n",
              " '          _ix_\\r\\n _dedication_           ',\n",
              " '     _ix_\\r\\n _dedication_                ',\n",
              " '_ix_\\r\\n _dedication_                     ',\n",
              " '\\n _dedication_                          ',\n",
              " 'dication_                               ',\n",
              " 'ion_                                    ',\n",
              " '                                        ',\n",
              " '                                        ',\n",
              " '                                      _x',\n",
              " '                                 _x_\\r\\n\\r\\n',\n",
              " '                            _x_\\r\\n\\r\\n\\r\\n pa',\n",
              " '                       _x_\\r\\n\\r\\n\\r\\n part i\\r',\n",
              " '                  _x_\\r\\n\\r\\n\\r\\n part i\\r\\n the',\n",
              " '             _x_\\r\\n\\r\\n\\r\\n part i\\r\\n the old ',\n",
              " '        _x_\\r\\n\\r\\n\\r\\n part i\\r\\n the old bucca',\n",
              " '   _x_\\r\\n\\r\\n\\r\\n part i\\r\\n the old buccaneer\\r',\n",
              " '_\\r\\n\\r\\n\\r\\n part i\\r\\n the old buccaneer\\r\\n\\r\\n c',\n",
              " '\\r\\n part i\\r\\n the old buccaneer\\r\\n\\r\\n chapte',\n",
              " 'rt i\\r\\n the old buccaneer\\r\\n\\r\\n chapter\\r\\n  ',\n",
              " '\\n the old buccaneer\\r\\n\\r\\n chapter\\r\\n      i',\n",
              " ' old buccaneer\\r\\n\\r\\n chapter\\r\\n      i. at ',\n",
              " 'buccaneer\\r\\n\\r\\n chapter\\r\\n      i. at the \"',\n",
              " 'neer\\r\\n\\r\\n chapter\\r\\n      i. at the \"admir',\n",
              " '\\n\\r\\n chapter\\r\\n      i. at the \"admiral be',\n",
              " 'hapter\\r\\n      i. at the \"admiral benbow\"',\n",
              " 'r\\r\\n      i. at the \"admiral benbow\"     ',\n",
              " '    i. at the \"admiral benbow\"          ',\n",
              " '. at the \"admiral benbow\"               ',\n",
              " 'the \"admiral benbow\"                    ',\n",
              " 'admiral benbow\"                         ',\n",
              " 'al benbow\"                              ',\n",
              " 'nbow\"                                3\\r\\n',\n",
              " '                                3\\r\\n     ',\n",
              " '                           3\\r\\n     ii. b',\n",
              " '                      3\\r\\n     ii. black ',\n",
              " '                 3\\r\\n     ii. black dog a',\n",
              " '            3\\r\\n     ii. black dog appear',\n",
              " '       3\\r\\n     ii. black dog appears and',\n",
              " '  3\\r\\n     ii. black dog appears and disa',\n",
              " '     ii. black dog appears and disappear',\n",
              " 'ii. black dog appears and disappears    ',\n",
              " 'lack dog appears and disappears         ',\n",
              " 'dog appears and disappears              ',\n",
              " 'ppears and disappears                   ',\n",
              " 's and disappears                      11',\n",
              " ' disappears                      11\\r\\n   ',\n",
              " 'ppears                      11\\r\\n    iii.',\n",
              " 's                      11\\r\\n    iii. the ',\n",
              " '                  11\\r\\n    iii. the black',\n",
              " '             11\\r\\n    iii. the black spot',\n",
              " '        11\\r\\n    iii. the black spot     ',\n",
              " '   11\\r\\n    iii. the black spot          ',\n",
              " '\\r\\n    iii. the black spot               ',\n",
              " ' iii. the black spot                    ',\n",
              " ' the black spot                         ',\n",
              " 'black spot                              ',\n",
              " ' spot                                   ',\n",
              " '                                        ',\n",
              " '                                   19\\r\\n ',\n",
              " '                              19\\r\\n     i',\n",
              " '                         19\\r\\n     iv. th',\n",
              " '                    19\\r\\n     iv. the sea',\n",
              " '               19\\r\\n     iv. the sea-ches',\n",
              " '          19\\r\\n     iv. the sea-chest    ',\n",
              " '     19\\r\\n     iv. the sea-chest         ',\n",
              " '19\\r\\n     iv. the sea-chest              ',\n",
              " '    iv. the sea-chest                   ',\n",
              " 'v. the sea-chest                        ',\n",
              " 'e sea-chest                             ',\n",
              " '-chest                                  ',\n",
              " 't                                       ',\n",
              " '                                     26\\r',\n",
              " '                                26\\r\\n    ',\n",
              " '                           26\\r\\n      v. ',\n",
              " '                      26\\r\\n      v. the l',\n",
              " '                 26\\r\\n      v. the last o',\n",
              " '            26\\r\\n      v. the last of the',\n",
              " '       26\\r\\n      v. the last of the blin',\n",
              " '  26\\r\\n      v. the last of the blind man',\n",
              " '\\n      v. the last of the blind man     ',\n",
              " '  v. the last of the blind man          ',\n",
              " 'the last of the blind man               ',\n",
              " 'ast of the blind man                    ',\n",
              " 'f the blind man                         ',\n",
              " ' blind man                             3',\n",
              " 'd man                             33\\r\\n  ',\n",
              " '                             33\\r\\n     vi',\n",
              " '                        33\\r\\n     vi. the',\n",
              " '                   33\\r\\n     vi. the capt',\n",
              " \"              33\\r\\n     vi. the captain's\",\n",
              " \"         33\\r\\n     vi. the captain's pape\",\n",
              " \"    33\\r\\n     vi. the captain's papers   \",\n",
              " \"3\\r\\n     vi. the captain's papers        \",\n",
              " \"   vi. the captain's papers             \",\n",
              " \". the captain's papers                  \",\n",
              " \" captain's papers                       \",\n",
              " \"ain's papers                            \",\n",
              " ' papers                                 ',\n",
              " 'rs                                  40\\r\\n',\n",
              " '                               40\\r\\n\\r\\n\\r\\n ',\n",
              " '                          40\\r\\n\\r\\n\\r\\n part ',\n",
              " '                     40\\r\\n\\r\\n\\r\\n part ii\\r\\n ',\n",
              " '                40\\r\\n\\r\\n\\r\\n part ii\\r\\n the s',\n",
              " '           40\\r\\n\\r\\n\\r\\n part ii\\r\\n the sea-co',\n",
              " '      40\\r\\n\\r\\n\\r\\n part ii\\r\\n the sea-cook\\r\\n\\r',\n",
              " ' 40\\r\\n\\r\\n\\r\\n part ii\\r\\n the sea-cook\\r\\n\\r\\n    ',\n",
              " '\\r\\n\\r\\n part ii\\r\\n the sea-cook\\r\\n\\r\\n    vii. ',\n",
              " 'part ii\\r\\n the sea-cook\\r\\n\\r\\n    vii. i go ',\n",
              " 'ii\\r\\n the sea-cook\\r\\n\\r\\n    vii. i go to br',\n",
              " 'the sea-cook\\r\\n\\r\\n    vii. i go to bristol',\n",
              " 'ea-cook\\r\\n\\r\\n    vii. i go to bristol     ',\n",
              " 'ok\\r\\n\\r\\n    vii. i go to bristol          ',\n",
              " '\\n    vii. i go to bristol               ',\n",
              " 'vii. i go to bristol                    ',\n",
              " 'i go to bristol                         ',\n",
              " 'to bristol                              ',\n",
              " 'istol                                   ',\n",
              " '                                       4',\n",
              " '                                  49\\r\\n  ',\n",
              " '                             49\\r\\n   viii',\n",
              " '                        49\\r\\n   viii. at ',\n",
              " '                   49\\r\\n   viii. at the s',\n",
              " '              49\\r\\n   viii. at the sign o',\n",
              " '         49\\r\\n   viii. at the sign of the',\n",
              " '    49\\r\\n   viii. at the sign of the \"spy',\n",
              " '9\\r\\n   viii. at the sign of the \"spy-glas',\n",
              " ' viii. at the sign of the \"spy-glass\"   ',\n",
              " '. at the sign of the \"spy-glass\"        ',\n",
              " 'the sign of the \"spy-glass\"             ',\n",
              " 'ign of the \"spy-glass\"                  ',\n",
              " 'f the \"spy-glass\"                       ',\n",
              " ' \"spy-glass\"                        55\\r\\n',\n",
              " '-glass\"                        55\\r\\n     ',\n",
              " 's\"                        55\\r\\n     ix. p',\n",
              " '                     55\\r\\n     ix. powder',\n",
              " '                55\\r\\n     ix. powder and ',\n",
              " '           55\\r\\n     ix. powder and arms ',\n",
              " '      55\\r\\n     ix. powder and arms      ',\n",
              " ' 55\\r\\n     ix. powder and arms           ',\n",
              " '     ix. powder and arms                ',\n",
              " 'ix. powder and arms                     ',\n",
              " 'owder and arms                          ',\n",
              " ' and arms                               ',\n",
              " 'arms                                    ',\n",
              " '                                      62',\n",
              " '                                 62\\r\\n   ',\n",
              " '                            62\\r\\n      x.',\n",
              " '                       62\\r\\n      x. the ',\n",
              " '                  62\\r\\n      x. the voyag',\n",
              " '             62\\r\\n      x. the voyage    ',\n",
              " '        62\\r\\n      x. the voyage         ',\n",
              " '   62\\r\\n      x. the voyage              ',\n",
              " '\\r\\n      x. the voyage                   ',\n",
              " '   x. the voyage                        ',\n",
              " ' the voyage                             ',\n",
              " 'voyage                                  ',\n",
              " 'e                                       ',\n",
              " '                                        ',\n",
              " '                                   69\\r\\n ',\n",
              " '                              69\\r\\n     x',\n",
              " '                         69\\r\\n     xi. wh',\n",
              " '                    69\\r\\n     xi. what i ',\n",
              " '               69\\r\\n     xi. what i heard',\n",
              " '          69\\r\\n     xi. what i heard in t',\n",
              " '     69\\r\\n     xi. what i heard in the ap',\n",
              " '69\\r\\n     xi. what i heard in the apple b',\n",
              " '    xi. what i heard in the apple barrel',\n",
              " 'i. what i heard in the apple barrel     ',\n",
              " 'at i heard in the apple barrel          ',\n",
              " 'heard in the apple barrel               ',\n",
              " ' in the apple barrel                    ',\n",
              " 'he apple barrel                      76\\r',\n",
              " 'ple barrel                      76\\r\\n    ',\n",
              " 'arrel                      76\\r\\n    xii. ',\n",
              " '                      76\\r\\n    xii. counc',\n",
              " '                 76\\r\\n    xii. council of',\n",
              " '            76\\r\\n    xii. council of war ',\n",
              " '       76\\r\\n    xii. council of war      ',\n",
              " '  76\\r\\n    xii. council of war           ',\n",
              " '\\n    xii. council of war                ',\n",
              " 'xii. council of war                     ',\n",
              " 'council of war                          ',\n",
              " 'il of war                               ',\n",
              " ' war                                    ',\n",
              " '                                       8',\n",
              " '                                  83\\r\\n\\r\\n',\n",
              " '                             83\\r\\n\\r\\n\\r\\n pa',\n",
              " '                        83\\r\\n\\r\\n\\r\\n part ii',\n",
              " '                   83\\r\\n\\r\\n\\r\\n part iii\\r\\n m',\n",
              " '              83\\r\\n\\r\\n\\r\\n part iii\\r\\n my sho',\n",
              " '         83\\r\\n\\r\\n\\r\\n part iii\\r\\n my shore ad',\n",
              " '    83\\r\\n\\r\\n\\r\\n part iii\\r\\n my shore adventu',\n",
              " '3\\r\\n\\r\\n\\r\\n part iii\\r\\n my shore adventure\\r\\n\\r',\n",
              " '\\r\\n part iii\\r\\n my shore adventure\\r\\n\\r\\n   x',\n",
              " 'rt iii\\r\\n my shore adventure\\r\\n\\r\\n   xiii. ',\n",
              " 'i\\r\\n my shore adventure\\r\\n\\r\\n   xiii. how m',\n",
              " 'y shore adventure\\r\\n\\r\\n   xiii. how my sho',\n",
              " 're adventure\\r\\n\\r\\n   xiii. how my shore ad',\n",
              " 'venture\\r\\n\\r\\n   xiii. how my shore adventu',\n",
              " 're\\r\\n\\r\\n   xiii. how my shore adventure be',\n",
              " '\\n   xiii. how my shore adventure began  ',\n",
              " 'iii. how my shore adventure began       ',\n",
              " 'how my shore adventure began            ',\n",
              " 'y shore adventure began                 ',\n",
              " 're adventure began                      ',\n",
              " 'venture began                          9',\n",
              " 're began                          93\\r\\n  ',\n",
              " 'gan                          93\\r\\n    xiv',\n",
              " '                        93\\r\\n    xiv. the',\n",
              " '                   93\\r\\n    xiv. the firs',\n",
              " '              93\\r\\n    xiv. the first blo',\n",
              " '         93\\r\\n    xiv. the first blow    ',\n",
              " '    93\\r\\n    xiv. the first blow         ',\n",
              " '3\\r\\n    xiv. the first blow              ',\n",
              " '  xiv. the first blow                   ',\n",
              " '. the first blow                        ',\n",
              " ' first blow                             ',\n",
              " 't blow                                  ',\n",
              " 'w                                       ',\n",
              " '                                    99\\r\\n',\n",
              " '                               99\\r\\n     ',\n",
              " '                          99\\r\\n     xv. t',\n",
              " '                     99\\r\\n     xv. the ma',\n",
              " '                99\\r\\n     xv. the man of ',\n",
              " '           99\\r\\n     xv. the man of the i',\n",
              " '      99\\r\\n     xv. the man of the island',\n",
              " ' 99\\r\\n     xv. the man of the island     ',\n",
              " '     xv. the man of the island          ',\n",
              " 'xv. the man of the island               ',\n",
              " 'he man of the island                    ',\n",
              " 'n of the island                         ',\n",
              " 'the island                              ',\n",
              " 'sland                                106',\n",
              " '                                106\\r\\n\\r\\n\\r',\n",
              " '                           106\\r\\n\\r\\n\\r\\n par',\n",
              " '                      106\\r\\n\\r\\n\\r\\n part iv\\r',\n",
              " '                 106\\r\\n\\r\\n\\r\\n part iv\\r\\n the',\n",
              " '            106\\r\\n\\r\\n\\r\\n part iv\\r\\n the stoc',\n",
              " '       106\\r\\n\\r\\n\\r\\n part iv\\r\\n the stockade\\r',\n",
              " '  106\\r\\n\\r\\n\\r\\n part iv\\r\\n the stockade\\r\\n\\r\\n  ',\n",
              " '\\r\\n\\r\\n\\r\\n part iv\\r\\n the stockade\\r\\n\\r\\n    xvi',\n",
              " '\\n part iv\\r\\n the stockade\\r\\n\\r\\n    xvi. nar',\n",
              " 't iv\\r\\n the stockade\\r\\n\\r\\n    xvi. narrativ',\n",
              " '\\n the stockade\\r\\n\\r\\n    xvi. narrative con',\n",
              " ' stockade\\r\\n\\r\\n    xvi. narrative continue',\n",
              " 'kade\\r\\n\\r\\n    xvi. narrative continued by ',\n",
              " '\\n\\r\\n    xvi. narrative continued by the d',\n",
              " '  xvi. narrative continued by the doctor',\n",
              " '. narrative continued by the doctor--how',\n",
              " 'rative continued by the doctor--how the ',\n",
              " 'e continued by the doctor--how the ship\\r',\n",
              " 'tinued by the doctor--how the ship\\r\\n    ',\n",
              " 'd by the doctor--how the ship\\r\\n         ',\n",
              " 'the doctor--how the ship\\r\\n           was',\n",
              " 'octor--how the ship\\r\\n           was aban',\n",
              " '--how the ship\\r\\n           was abandoned',\n",
              " ' the ship\\r\\n           was abandoned     ',\n",
              " 'ship\\r\\n           was abandoned          ',\n",
              " '\\n           was abandoned               ',\n",
              " '       was abandoned                    ',\n",
              " '  was abandoned                         ',\n",
              " ' abandoned                              ',\n",
              " 'doned                                   ',\n",
              " '                                      11',\n",
              " '                                 117\\r\\n  ',\n",
              " '                            117\\r\\n   xvii',\n",
              " '                       117\\r\\n   xvii. nar',\n",
              " '                  117\\r\\n   xvii. narrativ',\n",
              " '             117\\r\\n   xvii. narrative con',\n",
              " '        117\\r\\n   xvii. narrative continue',\n",
              " '   117\\r\\n   xvii. narrative continued by ',\n",
              " '7\\r\\n   xvii. narrative continued by the d',\n",
              " ' xvii. narrative continued by the doctor',\n",
              " '. narrative continued by the doctor--the',\n",
              " 'rative continued by the doctor--the\\r\\n   ',\n",
              " 'e continued by the doctor--the\\r\\n        ',\n",
              " 'tinued by the doctor--the\\r\\n           jo',\n",
              " 'd by the doctor--the\\r\\n           jolly-b',\n",
              " \"the doctor--the\\r\\n           jolly-boat's\",\n",
              " \"octor--the\\r\\n           jolly-boat's last\",\n",
              " \"--the\\r\\n           jolly-boat's last trip\",\n",
              " \"\\r\\n           jolly-boat's last trip     \",\n",
              " \"        jolly-boat's last trip          \",\n",
              " \"   jolly-boat's last trip               \",\n",
              " \"lly-boat's last trip                    \",\n",
              " \"oat's last trip                         \",\n",
              " ' last trip                             1',\n",
              " ' trip                             123\\r\\n ',\n",
              " '                             123\\r\\n  xvii',\n",
              " '                        123\\r\\n  xviii. na',\n",
              " '                   123\\r\\n  xviii. narrati',\n",
              " '              123\\r\\n  xviii. narrative co',\n",
              " '         123\\r\\n  xviii. narrative continu',\n",
              " '    123\\r\\n  xviii. narrative continued by',\n",
              " '23\\r\\n  xviii. narrative continued by the ',\n",
              " ' xviii. narrative continued by the docto',\n",
              " 'i. narrative continued by the doctor--en',\n",
              " 'rrative continued by the doctor--end of ',\n",
              " 've continued by the doctor--end of the\\r\\n',\n",
              " 'ntinued by the doctor--end of the\\r\\n     ',\n",
              " 'ed by the doctor--end of the\\r\\n          ',\n",
              " ' the doctor--end of the\\r\\n           firs',\n",
              " 'doctor--end of the\\r\\n           first day',\n",
              " \"r--end of the\\r\\n           first day's fi\",\n",
              " \"d of the\\r\\n           first day's fightin\",\n",
              " \"the\\r\\n           first day's fighting    \",\n",
              " \"           first day's fighting         \",\n",
              " \"      first day's fighting              \",\n",
              " \" first day's fighting                   \",\n",
              " \"t day's fighting                        \",\n",
              " \"'s fighting                             \",\n",
              " 'ghting                               129',\n",
              " 'g                               129\\r\\n   ',\n",
              " '                           129\\r\\n    xix.',\n",
              " '                      129\\r\\n    xix. narr',\n",
              " '                 129\\r\\n    xix. narrative',\n",
              " '            129\\r\\n    xix. narrative resu',\n",
              " '       129\\r\\n    xix. narrative resumed b',\n",
              " '  129\\r\\n    xix. narrative resumed by jim',\n",
              " '\\r\\n    xix. narrative resumed by jim hawk',\n",
              " ' xix. narrative resumed by jim hawkins--',\n",
              " ' narrative resumed by jim hawkins--the g',\n",
              " 'ative resumed by jim hawkins--the garris',\n",
              " ' resumed by jim hawkins--the garrison\\r\\n ',\n",
              " 'med by jim hawkins--the garrison\\r\\n      ',\n",
              " 'y jim hawkins--the garrison\\r\\n           ',\n",
              " ' hawkins--the garrison\\r\\n           in th',\n",
              " 'ins--the garrison\\r\\n           in the sto',\n",
              " 'the garrison\\r\\n           in the stockade',\n",
              " 'arrison\\r\\n           in the stockade     ',\n",
              " 'on\\r\\n           in the stockade          ',\n",
              " '          in the stockade               ',\n",
              " '     in the stockade                    ',\n",
              " 'in the stockade                         ',\n",
              " 'e stockade                              ',\n",
              " 'ckade                                   ',\n",
              " '                                    135\\r',\n",
              " '                               135\\r\\n    ',\n",
              " '                          135\\r\\n     xx. ',\n",
              " '                     135\\r\\n     xx. silve',\n",
              " \"                135\\r\\n     xx. silver's e\",\n",
              " \"           135\\r\\n     xx. silver's embass\",\n",
              " \"      135\\r\\n     xx. silver's embassy    \",\n",
              " \" 135\\r\\n     xx. silver's embassy         \",\n",
              " \"\\n     xx. silver's embassy              \",\n",
              " \" xx. silver's embassy                   \",\n",
              " \"silver's embassy                        \",\n",
              " \"r's embassy                             \",\n",
              " 'mbassy                                  ',\n",
              " 'y                                     14',\n",
              " '                                 142\\r\\n  ',\n",
              " '                            142\\r\\n    xxi',\n",
              " '                       142\\r\\n    xxi. the',\n",
              " '                  142\\r\\n    xxi. the atta',\n",
              " '             142\\r\\n    xxi. the attack   ',\n",
              " '        142\\r\\n    xxi. the attack        ',\n",
              " '   142\\r\\n    xxi. the attack             ',\n",
              " '2\\r\\n    xxi. the attack                  ',\n",
              " '  xxi. the attack                       ',\n",
              " '. the attack                            ',\n",
              " ' attack                                 ',\n",
              " 'ck                                      ',\n",
              " '                                        ',\n",
              " '                                   149\\r\\n',\n",
              " '                              149\\r\\n\\r\\n\\r\\n ',\n",
              " '                         149\\r\\n\\r\\n\\r\\n part ',\n",
              " '                    149\\r\\n\\r\\n\\r\\n part v\\r\\n m',\n",
              " '               149\\r\\n\\r\\n\\r\\n part v\\r\\n my sea',\n",
              " '          149\\r\\n\\r\\n\\r\\n part v\\r\\n my sea adve',\n",
              " '     149\\r\\n\\r\\n\\r\\n part v\\r\\n my sea adventure',\n",
              " '149\\r\\n\\r\\n\\r\\n part v\\r\\n my sea adventure\\r\\n\\r\\n ',\n",
              " '\\r\\n\\r\\n part v\\r\\n my sea adventure\\r\\n\\r\\n   xxi',\n",
              " 'part v\\r\\n my sea adventure\\r\\n\\r\\n   xxii. ho',\n",
              " 'v\\r\\n my sea adventure\\r\\n\\r\\n   xxii. how my ',\n",
              " 'y sea adventure\\r\\n\\r\\n   xxii. how my sea a',\n",
              " ' adventure\\r\\n\\r\\n   xxii. how my sea advent',\n",
              " 'nture\\r\\n\\r\\n   xxii. how my sea adventure b',\n",
              " '\\r\\n\\r\\n   xxii. how my sea adventure began ',\n",
              " '  xxii. how my sea adventure began      ',\n",
              " 'i. how my sea adventure began           ',\n",
              " 'w my sea adventure began                ',\n",
              " 'sea adventure began                     ',\n",
              " 'dventure began                          ',\n",
              " 'ure began                           159\\r',\n",
              " 'egan                           159\\r\\n  xx',\n",
              " '                          159\\r\\n  xxiii. ',\n",
              " '                     159\\r\\n  xxiii. the e',\n",
              " '                159\\r\\n  xxiii. the ebb-ti',\n",
              " '           159\\r\\n  xxiii. the ebb-tide ru',\n",
              " '      159\\r\\n  xxiii. the ebb-tide runs   ',\n",
              " ' 159\\r\\n  xxiii. the ebb-tide runs        ',\n",
              " '\\n  xxiii. the ebb-tide runs             ',\n",
              " 'iii. the ebb-tide runs                  ',\n",
              " ...]"
            ]
          },
          "metadata": {
            "tags": []
          },
          "execution_count": 65
        }
      ]
    },
    {
      "cell_type": "code",
      "metadata": {
        "colab": {
          "base_uri": "https://localhost:8080/"
        },
        "id": "6VHSA2eh1_jT",
        "outputId": "30f86fc4-1e3c-43eb-f782-e40c8fc23672"
      },
      "source": [
        "len(sentences)"
      ],
      "execution_count": 66,
      "outputs": [
        {
          "output_type": "execute_result",
          "data": {
            "text/plain": [
              "79472"
            ]
          },
          "metadata": {
            "tags": []
          },
          "execution_count": 66
        }
      ]
    },
    {
      "cell_type": "code",
      "metadata": {
        "id": "n-b8B8ux5KEx"
      },
      "source": [
        "from sklearn.preprocessing import OneHotEncoder"
      ],
      "execution_count": 67,
      "outputs": []
    },
    {
      "cell_type": "code",
      "metadata": {
        "colab": {
          "base_uri": "https://localhost:8080/"
        },
        "id": "TLHZ9l5p5bL6",
        "outputId": "aa9d29d8-d124-4ce3-ed97-5c72244d6643"
      },
      "source": [
        "len(chars)"
      ],
      "execution_count": 68,
      "outputs": [
        {
          "output_type": "execute_result",
          "data": {
            "text/plain": [
              "60"
            ]
          },
          "metadata": {
            "tags": []
          },
          "execution_count": 68
        }
      ]
    },
    {
      "cell_type": "code",
      "metadata": {
        "colab": {
          "base_uri": "https://localhost:8080/"
        },
        "id": "boKgKDJU5OMt",
        "outputId": "ae40a95d-741a-45a6-823f-778382cb756a"
      },
      "source": [
        "ohe = OneHotEncoder()\n",
        "ohe.fit(np.array(chars).reshape(-1,1))"
      ],
      "execution_count": 69,
      "outputs": [
        {
          "output_type": "execute_result",
          "data": {
            "text/plain": [
              "OneHotEncoder(categories='auto', drop=None, dtype=<class 'numpy.float64'>,\n",
              "              handle_unknown='error', sparse=True)"
            ]
          },
          "metadata": {
            "tags": []
          },
          "execution_count": 69
        }
      ]
    },
    {
      "cell_type": "code",
      "metadata": {
        "id": "oMr4sW8a54gR"
      },
      "source": [
        "y = np.array(ohe.transform(np.array(next_chars).reshape(-1,1)).todense())"
      ],
      "execution_count": 70,
      "outputs": []
    },
    {
      "cell_type": "code",
      "metadata": {
        "id": "dOB1D4_L6Umh"
      },
      "source": [
        "final = []\n",
        "for lis in sentences:\n",
        "  split = [i for i in lis]\n",
        "  final.append(split)"
      ],
      "execution_count": 71,
      "outputs": []
    },
    {
      "cell_type": "code",
      "metadata": {
        "id": "_w_ivsiv69v_"
      },
      "source": [
        "final = np.array(final)"
      ],
      "execution_count": 72,
      "outputs": []
    },
    {
      "cell_type": "code",
      "metadata": {
        "colab": {
          "base_uri": "https://localhost:8080/"
        },
        "id": "CoFAdujx6_Ei",
        "outputId": "c02424a8-00b5-47ea-c4c1-b8c15bbc0c0b"
      },
      "source": [
        "final.shape"
      ],
      "execution_count": 73,
      "outputs": [
        {
          "output_type": "execute_result",
          "data": {
            "text/plain": [
              "(79472, 40)"
            ]
          },
          "metadata": {
            "tags": []
          },
          "execution_count": 73
        }
      ]
    },
    {
      "cell_type": "code",
      "metadata": {
        "id": "5_uArTHh7hNa"
      },
      "source": [
        "final_list = []\n",
        "for lis in final:\n",
        "  one_hot = ohe.transform(lis.reshape(-1,1))\n",
        "  final_list.append(np.array(one_hot.todense()))"
      ],
      "execution_count": 74,
      "outputs": []
    },
    {
      "cell_type": "code",
      "metadata": {
        "colab": {
          "base_uri": "https://localhost:8080/"
        },
        "id": "_1PkR6wS7lCS",
        "outputId": "e8f880c9-5d4c-4ac7-9666-7407c01906a3"
      },
      "source": [
        "len(final_list)"
      ],
      "execution_count": 75,
      "outputs": [
        {
          "output_type": "execute_result",
          "data": {
            "text/plain": [
              "79472"
            ]
          },
          "metadata": {
            "tags": []
          },
          "execution_count": 75
        }
      ]
    },
    {
      "cell_type": "code",
      "metadata": {
        "id": "m40pOFJg79mo"
      },
      "source": [
        " x = np.array(final_list)"
      ],
      "execution_count": 76,
      "outputs": []
    },
    {
      "cell_type": "code",
      "metadata": {
        "colab": {
          "base_uri": "https://localhost:8080/"
        },
        "id": "XBFuuYlFMDpX",
        "outputId": "de54f42f-1375-4d49-a8b2-506360ec1efa"
      },
      "source": [
        "x.shape"
      ],
      "execution_count": 77,
      "outputs": [
        {
          "output_type": "execute_result",
          "data": {
            "text/plain": [
              "(79472, 40, 60)"
            ]
          },
          "metadata": {
            "tags": []
          },
          "execution_count": 77
        }
      ]
    },
    {
      "cell_type": "code",
      "metadata": {
        "id": "e4fKYCYK8DTb"
      },
      "source": [
        "model = tf.keras.Sequential([\n",
        "tf.keras.layers.LSTM(128, input_shape=(40, len(chars))),\n",
        "tf.keras.layers.Dropout(0.2),\n",
        "tf.keras.layers.Dense(len(chars), activation='softmax')\n",
        "])\n",
        "optimizer = tf.keras.optimizers.Adam(lr=0.01)\n",
        "model.compile(loss='categorical_crossentropy', optimizer=optimizer,metrics=['accuracy'])\n"
      ],
      "execution_count": 104,
      "outputs": []
    },
    {
      "cell_type": "code",
      "metadata": {
        "colab": {
          "base_uri": "https://localhost:8080/"
        },
        "id": "krkcO9gw8PUm",
        "outputId": "c4ea9f5a-5412-4f3f-dfcb-bc654bccaa07"
      },
      "source": [
        "model.summary()"
      ],
      "execution_count": 105,
      "outputs": [
        {
          "output_type": "stream",
          "text": [
            "Model: \"sequential_6\"\n",
            "_________________________________________________________________\n",
            "Layer (type)                 Output Shape              Param #   \n",
            "=================================================================\n",
            "lstm_9 (LSTM)                (None, 128)               96768     \n",
            "_________________________________________________________________\n",
            "dropout_8 (Dropout)          (None, 128)               0         \n",
            "_________________________________________________________________\n",
            "dense_6 (Dense)              (None, 60)                7740      \n",
            "=================================================================\n",
            "Total params: 104,508\n",
            "Trainable params: 104,508\n",
            "Non-trainable params: 0\n",
            "_________________________________________________________________\n"
          ],
          "name": "stdout"
        }
      ]
    },
    {
      "cell_type": "code",
      "metadata": {
        "id": "Y9kwDgigHTxm"
      },
      "source": [
        "callback1 = tf.keras.callbacks.EarlyStopping(monitor='val_loss',patience=5)"
      ],
      "execution_count": 106,
      "outputs": []
    },
    {
      "cell_type": "code",
      "metadata": {
        "colab": {
          "base_uri": "https://localhost:8080/"
        },
        "id": "Lm7tVIgV8cCG",
        "outputId": "93510e61-e218-4436-a156-a4a81fbc6d66"
      },
      "source": [
        "model.fit(x,y,batch_size=128,epochs=50,validation_split=0.2,callbacks=[callback1])"
      ],
      "execution_count": 107,
      "outputs": [
        {
          "output_type": "stream",
          "text": [
            "Epoch 1/50\n",
            "497/497 [==============================] - 5s 8ms/step - loss: 2.6467 - accuracy: 0.2724 - val_loss: 2.0963 - val_accuracy: 0.3993\n",
            "Epoch 2/50\n",
            "497/497 [==============================] - 3s 6ms/step - loss: 1.9421 - accuracy: 0.4353 - val_loss: 1.9513 - val_accuracy: 0.4359\n",
            "Epoch 3/50\n",
            "497/497 [==============================] - 3s 6ms/step - loss: 1.7696 - accuracy: 0.4787 - val_loss: 1.8883 - val_accuracy: 0.4535\n",
            "Epoch 4/50\n",
            "497/497 [==============================] - 3s 6ms/step - loss: 1.6857 - accuracy: 0.4993 - val_loss: 1.8545 - val_accuracy: 0.4675\n",
            "Epoch 5/50\n",
            "497/497 [==============================] - 3s 6ms/step - loss: 1.6016 - accuracy: 0.5188 - val_loss: 1.8187 - val_accuracy: 0.4763\n",
            "Epoch 6/50\n",
            "497/497 [==============================] - 3s 6ms/step - loss: 1.5632 - accuracy: 0.5307 - val_loss: 1.8376 - val_accuracy: 0.4774\n",
            "Epoch 7/50\n",
            "497/497 [==============================] - 3s 6ms/step - loss: 1.5062 - accuracy: 0.5450 - val_loss: 1.8237 - val_accuracy: 0.4802\n",
            "Epoch 8/50\n",
            "497/497 [==============================] - 3s 6ms/step - loss: 1.4776 - accuracy: 0.5531 - val_loss: 1.8201 - val_accuracy: 0.4797\n",
            "Epoch 9/50\n",
            "497/497 [==============================] - 3s 6ms/step - loss: 1.4458 - accuracy: 0.5587 - val_loss: 1.8323 - val_accuracy: 0.4752\n",
            "Epoch 10/50\n",
            "497/497 [==============================] - 3s 6ms/step - loss: 1.4242 - accuracy: 0.5636 - val_loss: 1.8229 - val_accuracy: 0.4837\n"
          ],
          "name": "stdout"
        },
        {
          "output_type": "execute_result",
          "data": {
            "text/plain": [
              "<tensorflow.python.keras.callbacks.History at 0x7f656e96b278>"
            ]
          },
          "metadata": {
            "tags": []
          },
          "execution_count": 107
        }
      ]
    },
    {
      "cell_type": "code",
      "metadata": {
        "colab": {
          "base_uri": "https://localhost:8080/",
          "height": 37
        },
        "id": "OZkS_tOAG_P6",
        "outputId": "818eb0f6-ac49-4e36-9067-ff7d96b2b50b"
      },
      "source": [
        "idx2char[np.argmax(model.predict(tf.expand_dims(x[0],axis=0)))]"
      ],
      "execution_count": 108,
      "outputs": [
        {
          "output_type": "execute_result",
          "data": {
            "application/vnd.google.colaboratory.intrinsic+json": {
              "type": "string"
            },
            "text/plain": [
              "'i'"
            ]
          },
          "metadata": {
            "tags": []
          },
          "execution_count": 108
        }
      ]
    },
    {
      "cell_type": "code",
      "metadata": {
        "id": "xEvp62yXKb9P"
      },
      "source": [
        "example = processed_text[150:190]"
      ],
      "execution_count": 109,
      "outputs": []
    },
    {
      "cell_type": "code",
      "metadata": {
        "id": "91NT7UI6IlRS"
      },
      "source": [
        "target_text = processed_text[150:490]"
      ],
      "execution_count": 110,
      "outputs": []
    },
    {
      "cell_type": "code",
      "metadata": {
        "colab": {
          "base_uri": "https://localhost:8080/",
          "height": 37
        },
        "id": "ON_kFwnKKtxd",
        "outputId": "85f8b966-d809-47b2-bcb9-82942d6ed9a9"
      },
      "source": [
        "example"
      ],
      "execution_count": 111,
      "outputs": [
        {
          "output_type": "execute_result",
          "data": {
            "application/vnd.google.colaboratory.intrinsic+json": {
              "type": "string"
            },
            "text/plain": [
              "'no restrictions whatsoever.  you may cop'"
            ]
          },
          "metadata": {
            "tags": []
          },
          "execution_count": 111
        }
      ]
    },
    {
      "cell_type": "code",
      "metadata": {
        "id": "r3uo3C1JL4dr"
      },
      "source": [
        " generated = ''\n",
        " generated +=example\n",
        " for i in range(400):\n",
        "    example = np.array([i for i in example])\n",
        "    one_hot = np.array(ohe.transform(example.reshape(-1,1)).todense())\n",
        "    preds = model.predict(tf.expand_dims(one_hot,axis=0), verbose=0)[0]\n",
        "    next_index = np.random.choice(len(preds), p=preds)\n",
        "    # next_index = np.argmax(preds\n",
        "    next_char = idx2char[next_index]\n",
        "    generated += next_char\n",
        "    example = \"\".join(example)\n",
        "    example = example[1:] + next_char"
      ],
      "execution_count": 112,
      "outputs": []
    },
    {
      "cell_type": "code",
      "metadata": {
        "colab": {
          "base_uri": "https://localhost:8080/",
          "height": 71
        },
        "id": "1m0v-ZsJjnSf",
        "outputId": "6a08d41b-4782-4e2f-8be7-c86223b2e4b2"
      },
      "source": [
        "generated"
      ],
      "execution_count": 113,
      "outputs": [
        {
          "output_type": "execute_result",
          "data": {
            "application/vnd.google.colaboratory.intrinsic+json": {
              "type": "string"
            },
            "text/plain": [
              "\"no restrictions whatsoever.  you may copged for the woud fill usking and a preaivessed as with pessaces\\r\\nas ha fire compling with i cang pained his poor you fere at the bip was a may but purpayed sefting and bole, and which mi, it was tastany on in there's lieg get by parring\\r\\nat the shoulder pertune aid\\r\\nshe took molly sir! alate appearow. yrough frewing-no in the mocking,, and to a mait it we mound the score, and\\r\\nslicely in which the\""
            ]
          },
          "metadata": {
            "tags": []
          },
          "execution_count": 113
        }
      ]
    },
    {
      "cell_type": "code",
      "metadata": {
        "colab": {
          "base_uri": "https://localhost:8080/",
          "height": 71
        },
        "id": "2Gjm7ElOITZL",
        "outputId": "b93f301e-ac26-4947-9c6f-19cdb0679ae0"
      },
      "source": [
        "target_text"
      ],
      "execution_count": 114,
      "outputs": [
        {
          "output_type": "execute_result",
          "data": {
            "application/vnd.google.colaboratory.intrinsic+json": {
              "type": "string"
            },
            "text/plain": [
              "'no restrictions whatsoever.  you may copy it, give it away or\\r\\nre-use it under the terms of the project gutenberg license included\\r\\nwith this ebook or online at www.gutenberg.net\\r\\n\\r\\n\\r\\ntitle: treasure island\\r\\n\\r\\nauthor: robert louis stevenson\\r\\n\\r\\nillustrator: milo winter\\r\\n\\r\\nrelease date: january 12, 2009 [ebook #27780]\\r\\n\\r\\nlanguage: english\\r\\n'"
            ]
          },
          "metadata": {
            "tags": []
          },
          "execution_count": 114
        }
      ]
    },
    {
      "cell_type": "code",
      "metadata": {
        "id": "VbOOF4b4LfKf"
      },
      "source": [
        ""
      ],
      "execution_count": null,
      "outputs": []
    }
  ]
}